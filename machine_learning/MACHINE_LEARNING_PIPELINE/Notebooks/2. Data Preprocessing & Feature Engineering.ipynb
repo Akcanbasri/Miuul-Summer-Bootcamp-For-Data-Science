{
 "cells": [
  {
   "cell_type": "code",
   "execution_count": 14,
   "source": [
    "import joblib\n",
    "import pandas as pd\n",
    "import seaborn as sns\n",
    "from matplotlib import pyplot as plt\n",
    "from sklearn.ensemble import (\n",
    "    RandomForestClassifier,\n",
    "    GradientBoostingClassifier,\n",
    "    VotingClassifier,\n",
    "    AdaBoostClassifier,\n",
    ")\n",
    "\n",
    "from sklearn.linear_model import LogisticRegression\n",
    "from sklearn.model_selection import cross_validate, GridSearchCV\n",
    "from sklearn.neighbors import KNeighborsClassifier\n",
    "from sklearn.svm import SVC\n",
    "from sklearn.tree import DecisionTreeClassifier\n",
    "from sklearn.preprocessing import StandardScaler\n",
    "# !pip install catboost\n",
    "# !pip install lightgbm\n",
    "# !pip install xgboost\n",
    "\n",
    "from xgboost import XGBClassifier\n",
    "from lightgbm import LGBMClassifier\n",
    "from catboost import CatBoostClassifier\n",
    "pd.set_option(\"display.max_columns\", None)\n",
    "pd.set_option(\"display.width\", 500)"
   ],
   "outputs": [],
   "metadata": {}
  },
  {
   "cell_type": "code",
   "execution_count": 15,
   "source": [
    "def outlier_thresholds(dataframe, col_name, q1=0.25, q3=0.75):\n",
    "    quartile1 = dataframe[col_name].quantile(q1)\n",
    "    quartile3 = dataframe[col_name].quantile(q3)\n",
    "    interquantile_range = quartile3 - quartile1\n",
    "    up_limit = quartile3 + 1.5 * interquantile_range\n",
    "    low_limit = quartile1 - 1.5 * interquantile_range\n",
    "    return low_limit, up_limit\n",
    "\n",
    "def replace_with_thresholds(dataframe, variable):\n",
    "    low_limit, up_limit = outlier_thresholds(dataframe, variable)\n",
    "    dataframe.loc[(dataframe[variable] < low_limit), variable] = low_limit\n",
    "    dataframe.loc[(dataframe[variable] > up_limit), variable] = up_limit\n",
    "\n",
    "def check_outlier(dataframe, col_name, q1=0.25, q3=0.75):\n",
    "    low_limit, up_limit = outlier_thresholds(dataframe, col_name, q1, q3)\n",
    "    if dataframe[\n",
    "        (dataframe[col_name] > up_limit) | (dataframe[col_name] < low_limit)\n",
    "    ].any(axis=None):\n",
    "        return True\n",
    "    else:\n",
    "        return False\n",
    "\n",
    "def one_hot_encoder(dataframe, categorical_cols, drop_first=False):\n",
    "    dataframe = pd.get_dummies(\n",
    "        dataframe, columns=categorical_cols, drop_first=drop_first\n",
    "    )\n",
    "    return dataframe"
   ],
   "outputs": [],
   "metadata": {}
  },
  {
   "cell_type": "code",
   "execution_count": 16,
   "source": [
    "df.head()"
   ],
   "outputs": [
    {
     "output_type": "execute_result",
     "data": {
      "text/html": [
       "<div>\n",
       "<style scoped>\n",
       "    .dataframe tbody tr th:only-of-type {\n",
       "        vertical-align: middle;\n",
       "    }\n",
       "\n",
       "    .dataframe tbody tr th {\n",
       "        vertical-align: top;\n",
       "    }\n",
       "\n",
       "    .dataframe thead th {\n",
       "        text-align: right;\n",
       "    }\n",
       "</style>\n",
       "<table border=\"1\" class=\"dataframe\">\n",
       "  <thead>\n",
       "    <tr style=\"text-align: right;\">\n",
       "      <th></th>\n",
       "      <th>Pregnancies</th>\n",
       "      <th>Glucose</th>\n",
       "      <th>BloodPressure</th>\n",
       "      <th>SkinThickness</th>\n",
       "      <th>Insulin</th>\n",
       "      <th>BMI</th>\n",
       "      <th>DiabetesPedigreeFunction</th>\n",
       "      <th>Age</th>\n",
       "      <th>Outcome</th>\n",
       "    </tr>\n",
       "  </thead>\n",
       "  <tbody>\n",
       "    <tr>\n",
       "      <th>0</th>\n",
       "      <td>6</td>\n",
       "      <td>148</td>\n",
       "      <td>72</td>\n",
       "      <td>35</td>\n",
       "      <td>0</td>\n",
       "      <td>33.6</td>\n",
       "      <td>0.627</td>\n",
       "      <td>50</td>\n",
       "      <td>1</td>\n",
       "    </tr>\n",
       "    <tr>\n",
       "      <th>1</th>\n",
       "      <td>1</td>\n",
       "      <td>85</td>\n",
       "      <td>66</td>\n",
       "      <td>29</td>\n",
       "      <td>0</td>\n",
       "      <td>26.6</td>\n",
       "      <td>0.351</td>\n",
       "      <td>31</td>\n",
       "      <td>0</td>\n",
       "    </tr>\n",
       "    <tr>\n",
       "      <th>2</th>\n",
       "      <td>8</td>\n",
       "      <td>183</td>\n",
       "      <td>64</td>\n",
       "      <td>0</td>\n",
       "      <td>0</td>\n",
       "      <td>23.3</td>\n",
       "      <td>0.672</td>\n",
       "      <td>32</td>\n",
       "      <td>1</td>\n",
       "    </tr>\n",
       "    <tr>\n",
       "      <th>3</th>\n",
       "      <td>1</td>\n",
       "      <td>89</td>\n",
       "      <td>66</td>\n",
       "      <td>23</td>\n",
       "      <td>94</td>\n",
       "      <td>28.1</td>\n",
       "      <td>0.167</td>\n",
       "      <td>21</td>\n",
       "      <td>0</td>\n",
       "    </tr>\n",
       "    <tr>\n",
       "      <th>4</th>\n",
       "      <td>0</td>\n",
       "      <td>137</td>\n",
       "      <td>40</td>\n",
       "      <td>35</td>\n",
       "      <td>168</td>\n",
       "      <td>43.1</td>\n",
       "      <td>2.288</td>\n",
       "      <td>33</td>\n",
       "      <td>1</td>\n",
       "    </tr>\n",
       "  </tbody>\n",
       "</table>\n",
       "</div>"
      ],
      "text/plain": [
       "   Pregnancies  Glucose  BloodPressure  SkinThickness  Insulin   BMI  DiabetesPedigreeFunction  Age  Outcome\n",
       "0            6      148             72             35        0  33.6                     0.627   50        1\n",
       "1            1       85             66             29        0  26.6                     0.351   31        0\n",
       "2            8      183             64              0        0  23.3                     0.672   32        1\n",
       "3            1       89             66             23       94  28.1                     0.167   21        0\n",
       "4            0      137             40             35      168  43.1                     2.288   33        1"
      ]
     },
     "metadata": {},
     "execution_count": 16
    }
   ],
   "metadata": {}
  },
  {
   "cell_type": "code",
   "execution_count": 17,
   "source": [
    "df.columns = [col.upper() for col in df.columns]"
   ],
   "outputs": [],
   "metadata": {}
  },
  {
   "cell_type": "code",
   "execution_count": 18,
   "source": [
    "df[\"NEW_GLUCOSE_CAT\"] = pd.cut(\n",
    "    x=df[\"GLUCOSE\"], bins=[-1, 139, 200], labels=[\"normal\", \"prediabetes\"]\n",
    ")"
   ],
   "outputs": [],
   "metadata": {}
  },
  {
   "cell_type": "code",
   "execution_count": 19,
   "source": [
    "df.loc[(df[\"AGE\"] < 35), \"NEW_AGE_CAT\"] = \"young\"\n",
    "df.loc[(df[\"AGE\"] >= 35) & (df[\"AGE\"] <= 55), \"NEW_AGE_CAT\"] = \"middleage\"\n",
    "df.loc[(df[\"AGE\"] > 55), \"NEW_AGE_CAT\"] = \"old\""
   ],
   "outputs": [],
   "metadata": {}
  },
  {
   "cell_type": "code",
   "execution_count": 20,
   "source": [
    "df.head()"
   ],
   "outputs": [
    {
     "output_type": "execute_result",
     "data": {
      "text/html": [
       "<div>\n",
       "<style scoped>\n",
       "    .dataframe tbody tr th:only-of-type {\n",
       "        vertical-align: middle;\n",
       "    }\n",
       "\n",
       "    .dataframe tbody tr th {\n",
       "        vertical-align: top;\n",
       "    }\n",
       "\n",
       "    .dataframe thead th {\n",
       "        text-align: right;\n",
       "    }\n",
       "</style>\n",
       "<table border=\"1\" class=\"dataframe\">\n",
       "  <thead>\n",
       "    <tr style=\"text-align: right;\">\n",
       "      <th></th>\n",
       "      <th>PREGNANCIES</th>\n",
       "      <th>GLUCOSE</th>\n",
       "      <th>BLOODPRESSURE</th>\n",
       "      <th>SKINTHICKNESS</th>\n",
       "      <th>INSULIN</th>\n",
       "      <th>BMI</th>\n",
       "      <th>DIABETESPEDIGREEFUNCTION</th>\n",
       "      <th>AGE</th>\n",
       "      <th>OUTCOME</th>\n",
       "      <th>NEW_GLUCOSE_CAT</th>\n",
       "      <th>NEW_AGE_CAT</th>\n",
       "    </tr>\n",
       "  </thead>\n",
       "  <tbody>\n",
       "    <tr>\n",
       "      <th>0</th>\n",
       "      <td>6</td>\n",
       "      <td>148</td>\n",
       "      <td>72</td>\n",
       "      <td>35</td>\n",
       "      <td>0</td>\n",
       "      <td>33.6</td>\n",
       "      <td>0.627</td>\n",
       "      <td>50</td>\n",
       "      <td>1</td>\n",
       "      <td>prediabetes</td>\n",
       "      <td>middleage</td>\n",
       "    </tr>\n",
       "    <tr>\n",
       "      <th>1</th>\n",
       "      <td>1</td>\n",
       "      <td>85</td>\n",
       "      <td>66</td>\n",
       "      <td>29</td>\n",
       "      <td>0</td>\n",
       "      <td>26.6</td>\n",
       "      <td>0.351</td>\n",
       "      <td>31</td>\n",
       "      <td>0</td>\n",
       "      <td>normal</td>\n",
       "      <td>young</td>\n",
       "    </tr>\n",
       "    <tr>\n",
       "      <th>2</th>\n",
       "      <td>8</td>\n",
       "      <td>183</td>\n",
       "      <td>64</td>\n",
       "      <td>0</td>\n",
       "      <td>0</td>\n",
       "      <td>23.3</td>\n",
       "      <td>0.672</td>\n",
       "      <td>32</td>\n",
       "      <td>1</td>\n",
       "      <td>prediabetes</td>\n",
       "      <td>young</td>\n",
       "    </tr>\n",
       "    <tr>\n",
       "      <th>3</th>\n",
       "      <td>1</td>\n",
       "      <td>89</td>\n",
       "      <td>66</td>\n",
       "      <td>23</td>\n",
       "      <td>94</td>\n",
       "      <td>28.1</td>\n",
       "      <td>0.167</td>\n",
       "      <td>21</td>\n",
       "      <td>0</td>\n",
       "      <td>normal</td>\n",
       "      <td>young</td>\n",
       "    </tr>\n",
       "    <tr>\n",
       "      <th>4</th>\n",
       "      <td>0</td>\n",
       "      <td>137</td>\n",
       "      <td>40</td>\n",
       "      <td>35</td>\n",
       "      <td>168</td>\n",
       "      <td>43.1</td>\n",
       "      <td>2.288</td>\n",
       "      <td>33</td>\n",
       "      <td>1</td>\n",
       "      <td>normal</td>\n",
       "      <td>young</td>\n",
       "    </tr>\n",
       "  </tbody>\n",
       "</table>\n",
       "</div>"
      ],
      "text/plain": [
       "   PREGNANCIES  GLUCOSE  BLOODPRESSURE  SKINTHICKNESS  INSULIN   BMI  DIABETESPEDIGREEFUNCTION  AGE  OUTCOME NEW_GLUCOSE_CAT NEW_AGE_CAT\n",
       "0            6      148             72             35        0  33.6                     0.627   50        1     prediabetes   middleage\n",
       "1            1       85             66             29        0  26.6                     0.351   31        0          normal       young\n",
       "2            8      183             64              0        0  23.3                     0.672   32        1     prediabetes       young\n",
       "3            1       89             66             23       94  28.1                     0.167   21        0          normal       young\n",
       "4            0      137             40             35      168  43.1                     2.288   33        1          normal       young"
      ]
     },
     "metadata": {},
     "execution_count": 20
    }
   ],
   "metadata": {}
  },
  {
   "cell_type": "code",
   "execution_count": 21,
   "source": [
    "df[\"NEW_BMI_RANGE\"] = pd.cut(\n",
    "    x=df[\"BMI\"],\n",
    "    bins=[-1, 18.5, 24.9, 29.9, 100],\n",
    "    labels=[\"underweight\", \"healty\", \"overweight\", \"obese\"],\n",
    ")"
   ],
   "outputs": [],
   "metadata": {}
  },
  {
   "cell_type": "code",
   "execution_count": 22,
   "source": [
    "df[\"NEW_BLOODPRESSURE\"] = pd.cut(\n",
    "    x=df[\"BLOODPRESSURE\"], bins=[-1, 79, 89, 123], labels=[\"normal\", \"hs1\", \"hs2\"]\n",
    ")"
   ],
   "outputs": [],
   "metadata": {}
  },
  {
   "cell_type": "code",
   "execution_count": 23,
   "source": [
    "df.head()"
   ],
   "outputs": [
    {
     "output_type": "execute_result",
     "data": {
      "text/html": [
       "<div>\n",
       "<style scoped>\n",
       "    .dataframe tbody tr th:only-of-type {\n",
       "        vertical-align: middle;\n",
       "    }\n",
       "\n",
       "    .dataframe tbody tr th {\n",
       "        vertical-align: top;\n",
       "    }\n",
       "\n",
       "    .dataframe thead th {\n",
       "        text-align: right;\n",
       "    }\n",
       "</style>\n",
       "<table border=\"1\" class=\"dataframe\">\n",
       "  <thead>\n",
       "    <tr style=\"text-align: right;\">\n",
       "      <th></th>\n",
       "      <th>PREGNANCIES</th>\n",
       "      <th>GLUCOSE</th>\n",
       "      <th>BLOODPRESSURE</th>\n",
       "      <th>SKINTHICKNESS</th>\n",
       "      <th>INSULIN</th>\n",
       "      <th>BMI</th>\n",
       "      <th>DIABETESPEDIGREEFUNCTION</th>\n",
       "      <th>AGE</th>\n",
       "      <th>OUTCOME</th>\n",
       "      <th>NEW_GLUCOSE_CAT</th>\n",
       "      <th>NEW_AGE_CAT</th>\n",
       "      <th>NEW_BMI_RANGE</th>\n",
       "      <th>NEW_BLOODPRESSURE</th>\n",
       "    </tr>\n",
       "  </thead>\n",
       "  <tbody>\n",
       "    <tr>\n",
       "      <th>0</th>\n",
       "      <td>6</td>\n",
       "      <td>148</td>\n",
       "      <td>72</td>\n",
       "      <td>35</td>\n",
       "      <td>0</td>\n",
       "      <td>33.6</td>\n",
       "      <td>0.627</td>\n",
       "      <td>50</td>\n",
       "      <td>1</td>\n",
       "      <td>prediabetes</td>\n",
       "      <td>middleage</td>\n",
       "      <td>obese</td>\n",
       "      <td>normal</td>\n",
       "    </tr>\n",
       "    <tr>\n",
       "      <th>1</th>\n",
       "      <td>1</td>\n",
       "      <td>85</td>\n",
       "      <td>66</td>\n",
       "      <td>29</td>\n",
       "      <td>0</td>\n",
       "      <td>26.6</td>\n",
       "      <td>0.351</td>\n",
       "      <td>31</td>\n",
       "      <td>0</td>\n",
       "      <td>normal</td>\n",
       "      <td>young</td>\n",
       "      <td>overweight</td>\n",
       "      <td>normal</td>\n",
       "    </tr>\n",
       "    <tr>\n",
       "      <th>2</th>\n",
       "      <td>8</td>\n",
       "      <td>183</td>\n",
       "      <td>64</td>\n",
       "      <td>0</td>\n",
       "      <td>0</td>\n",
       "      <td>23.3</td>\n",
       "      <td>0.672</td>\n",
       "      <td>32</td>\n",
       "      <td>1</td>\n",
       "      <td>prediabetes</td>\n",
       "      <td>young</td>\n",
       "      <td>healty</td>\n",
       "      <td>normal</td>\n",
       "    </tr>\n",
       "    <tr>\n",
       "      <th>3</th>\n",
       "      <td>1</td>\n",
       "      <td>89</td>\n",
       "      <td>66</td>\n",
       "      <td>23</td>\n",
       "      <td>94</td>\n",
       "      <td>28.1</td>\n",
       "      <td>0.167</td>\n",
       "      <td>21</td>\n",
       "      <td>0</td>\n",
       "      <td>normal</td>\n",
       "      <td>young</td>\n",
       "      <td>overweight</td>\n",
       "      <td>normal</td>\n",
       "    </tr>\n",
       "    <tr>\n",
       "      <th>4</th>\n",
       "      <td>0</td>\n",
       "      <td>137</td>\n",
       "      <td>40</td>\n",
       "      <td>35</td>\n",
       "      <td>168</td>\n",
       "      <td>43.1</td>\n",
       "      <td>2.288</td>\n",
       "      <td>33</td>\n",
       "      <td>1</td>\n",
       "      <td>normal</td>\n",
       "      <td>young</td>\n",
       "      <td>obese</td>\n",
       "      <td>normal</td>\n",
       "    </tr>\n",
       "  </tbody>\n",
       "</table>\n",
       "</div>"
      ],
      "text/plain": [
       "   PREGNANCIES  GLUCOSE  BLOODPRESSURE  SKINTHICKNESS  INSULIN   BMI  DIABETESPEDIGREEFUNCTION  AGE  OUTCOME NEW_GLUCOSE_CAT NEW_AGE_CAT NEW_BMI_RANGE NEW_BLOODPRESSURE\n",
       "0            6      148             72             35        0  33.6                     0.627   50        1     prediabetes   middleage         obese            normal\n",
       "1            1       85             66             29        0  26.6                     0.351   31        0          normal       young    overweight            normal\n",
       "2            8      183             64              0        0  23.3                     0.672   32        1     prediabetes       young        healty            normal\n",
       "3            1       89             66             23       94  28.1                     0.167   21        0          normal       young    overweight            normal\n",
       "4            0      137             40             35      168  43.1                     2.288   33        1          normal       young         obese            normal"
      ]
     },
     "metadata": {},
     "execution_count": 23
    }
   ],
   "metadata": {}
  },
  {
   "cell_type": "code",
   "execution_count": 24,
   "source": [
    "check_df(df)"
   ],
   "outputs": [
    {
     "output_type": "stream",
     "name": "stdout",
     "text": [
      "##################### Shape #####################\n",
      "(768, 13)\n",
      "##################### Types #####################\n",
      "PREGNANCIES                    int64\n",
      "GLUCOSE                        int64\n",
      "BLOODPRESSURE                  int64\n",
      "SKINTHICKNESS                  int64\n",
      "INSULIN                        int64\n",
      "BMI                          float64\n",
      "DIABETESPEDIGREEFUNCTION     float64\n",
      "AGE                            int64\n",
      "OUTCOME                        int64\n",
      "NEW_GLUCOSE_CAT             category\n",
      "NEW_AGE_CAT                   object\n",
      "NEW_BMI_RANGE               category\n",
      "NEW_BLOODPRESSURE           category\n",
      "dtype: object\n",
      "##################### Head #####################\n",
      "   PREGNANCIES  GLUCOSE  BLOODPRESSURE  SKINTHICKNESS  INSULIN   BMI  DIABETESPEDIGREEFUNCTION  AGE  OUTCOME NEW_GLUCOSE_CAT NEW_AGE_CAT NEW_BMI_RANGE NEW_BLOODPRESSURE\n",
      "0            6      148             72             35        0  33.6                     0.627   50        1     prediabetes   middleage         obese            normal\n",
      "1            1       85             66             29        0  26.6                     0.351   31        0          normal       young    overweight            normal\n",
      "2            8      183             64              0        0  23.3                     0.672   32        1     prediabetes       young        healty            normal\n",
      "3            1       89             66             23       94  28.1                     0.167   21        0          normal       young    overweight            normal\n",
      "4            0      137             40             35      168  43.1                     2.288   33        1          normal       young         obese            normal\n",
      "##################### Tail #####################\n",
      "     PREGNANCIES  GLUCOSE  BLOODPRESSURE  SKINTHICKNESS  INSULIN   BMI  DIABETESPEDIGREEFUNCTION  AGE  OUTCOME NEW_GLUCOSE_CAT NEW_AGE_CAT NEW_BMI_RANGE NEW_BLOODPRESSURE\n",
      "763           10      101             76             48      180  32.9                     0.171   63        0          normal         old         obese            normal\n",
      "764            2      122             70             27        0  36.8                     0.340   27        0          normal       young         obese            normal\n",
      "765            5      121             72             23      112  26.2                     0.245   30        0          normal       young    overweight            normal\n",
      "766            1      126             60              0        0  30.1                     0.349   47        1          normal   middleage         obese            normal\n",
      "767            1       93             70             31        0  30.4                     0.315   23        0          normal       young         obese            normal\n",
      "##################### NA #####################\n",
      "PREGNANCIES                 0\n",
      "GLUCOSE                     0\n",
      "BLOODPRESSURE               0\n",
      "SKINTHICKNESS               0\n",
      "INSULIN                     0\n",
      "BMI                         0\n",
      "DIABETESPEDIGREEFUNCTION    0\n",
      "AGE                         0\n",
      "OUTCOME                     0\n",
      "NEW_GLUCOSE_CAT             0\n",
      "NEW_AGE_CAT                 0\n",
      "NEW_BMI_RANGE               0\n",
      "NEW_BLOODPRESSURE           0\n",
      "dtype: int64\n",
      "##################### Quantiles #####################\n",
      "                            0.00      0.05      0.50       0.95       0.99    1.00\n",
      "PREGNANCIES                0.000   0.00000    3.0000   10.00000   13.00000   17.00\n",
      "GLUCOSE                    0.000  79.00000  117.0000  181.00000  196.00000  199.00\n",
      "BLOODPRESSURE              0.000  38.70000   72.0000   90.00000  106.00000  122.00\n",
      "SKINTHICKNESS              0.000   0.00000   23.0000   44.00000   51.33000   99.00\n",
      "INSULIN                    0.000   0.00000   30.5000  293.00000  519.90000  846.00\n",
      "BMI                        0.000  21.80000   32.0000   44.39500   50.75900   67.10\n",
      "DIABETESPEDIGREEFUNCTION   0.078   0.14035    0.3725    1.13285    1.69833    2.42\n",
      "AGE                       21.000  21.00000   29.0000   58.00000   67.00000   81.00\n",
      "OUTCOME                    0.000   0.00000    0.0000    1.00000    1.00000    1.00\n"
     ]
    },
    {
     "output_type": "stream",
     "name": "stderr",
     "text": [
      "<ipython-input-2-9de896040ae4>:13: FutureWarning: The default value of numeric_only in DataFrame.quantile is deprecated. In a future version, it will default to False. Select only valid columns or specify the value of numeric_only to silence this warning.\n",
      "  print(dataframe.quantile([0, 0.05, 0.50, 0.95, 0.99, 1]).T)\n"
     ]
    }
   ],
   "metadata": {}
  },
  {
   "cell_type": "code",
   "execution_count": 25,
   "source": [
    "cat_cols, num_cols, cat_but_car = grab_col_names(df, cat_th=5, car_th=20)"
   ],
   "outputs": [],
   "metadata": {}
  },
  {
   "cell_type": "code",
   "execution_count": 26,
   "source": [
    "cat_cols"
   ],
   "outputs": [
    {
     "output_type": "execute_result",
     "data": {
      "text/plain": [
       "['NEW_AGE_CAT',\n",
       " 'OUTCOME',\n",
       " 'NEW_GLUCOSE_CAT',\n",
       " 'NEW_BMI_RANGE',\n",
       " 'NEW_BLOODPRESSURE']"
      ]
     },
     "metadata": {},
     "execution_count": 26
    }
   ],
   "metadata": {}
  },
  {
   "cell_type": "code",
   "execution_count": 27,
   "source": [
    "num_cols"
   ],
   "outputs": [
    {
     "output_type": "execute_result",
     "data": {
      "text/plain": [
       "['PREGNANCIES',\n",
       " 'GLUCOSE',\n",
       " 'BLOODPRESSURE',\n",
       " 'SKINTHICKNESS',\n",
       " 'INSULIN',\n",
       " 'BMI',\n",
       " 'DIABETESPEDIGREEFUNCTION',\n",
       " 'AGE']"
      ]
     },
     "metadata": {},
     "execution_count": 27
    }
   ],
   "metadata": {}
  },
  {
   "cell_type": "code",
   "execution_count": 28,
   "source": [
    "cat_but_car"
   ],
   "outputs": [
    {
     "output_type": "execute_result",
     "data": {
      "text/plain": [
       "[]"
      ]
     },
     "metadata": {},
     "execution_count": 28
    }
   ],
   "metadata": {}
  },
  {
   "cell_type": "code",
   "execution_count": 29,
   "source": [
    "for col in cat_cols:\n",
    "    cat_summary(df, col)"
   ],
   "outputs": [
    {
     "output_type": "stream",
     "name": "stdout",
     "text": [
      "           NEW_AGE_CAT      Ratio\n",
      "young              488  63.541667\n",
      "middleage          230  29.947917\n",
      "old                 50   6.510417\n",
      "##########################################\n",
      "   OUTCOME      Ratio\n",
      "0      500  65.104167\n",
      "1      268  34.895833\n",
      "##########################################\n",
      "             NEW_GLUCOSE_CAT      Ratio\n",
      "normal                   571  74.348958\n",
      "prediabetes              197  25.651042\n",
      "##########################################\n",
      "             NEW_BMI_RANGE      Ratio\n",
      "obese                  472  61.458333\n",
      "overweight             179  23.307292\n",
      "healty                 102  13.281250\n",
      "underweight             15   1.953125\n",
      "##########################################\n",
      "        NEW_BLOODPRESSURE      Ratio\n",
      "normal                563  73.307292\n",
      "hs1                   145  18.880208\n",
      "hs2                    60   7.812500\n",
      "##########################################\n"
     ]
    }
   ],
   "metadata": {}
  },
  {
   "cell_type": "code",
   "execution_count": 30,
   "source": [
    "for col in cat_cols:\n",
    "    target_summary_with_cat(df, \"OUTCOME\", col)"
   ],
   "outputs": [
    {
     "output_type": "stream",
     "name": "stdout",
     "text": [
      "             TARGET_MEAN\n",
      "NEW_AGE_CAT             \n",
      "middleage       0.543478\n",
      "old             0.340000\n",
      "young           0.258197\n",
      "\n",
      "\n",
      "         TARGET_MEAN\n",
      "OUTCOME             \n",
      "0                0.0\n",
      "1                1.0\n",
      "\n",
      "\n",
      "                 TARGET_MEAN\n",
      "NEW_GLUCOSE_CAT             \n",
      "normal              0.232925\n",
      "prediabetes         0.685279\n",
      "\n",
      "\n",
      "               TARGET_MEAN\n",
      "NEW_BMI_RANGE             \n",
      "underweight       0.133333\n",
      "healty            0.068627\n",
      "overweight        0.223464\n",
      "obese             0.463983\n",
      "\n",
      "\n",
      "                   TARGET_MEAN\n",
      "NEW_BLOODPRESSURE             \n",
      "normal                0.316163\n",
      "hs1                   0.420690\n",
      "hs2                   0.483333\n",
      "\n",
      "\n"
     ]
    }
   ],
   "metadata": {}
  },
  {
   "cell_type": "code",
   "execution_count": 31,
   "source": [
    "cat_cols = [col for col in cat_cols if \"OUTCOME\" not in col]"
   ],
   "outputs": [],
   "metadata": {}
  },
  {
   "cell_type": "code",
   "execution_count": 32,
   "source": [
    "df = one_hot_encoder(df, cat_cols, drop_first=True)"
   ],
   "outputs": [],
   "metadata": {}
  },
  {
   "cell_type": "code",
   "execution_count": 33,
   "source": [
    "check_df(df)"
   ],
   "outputs": [
    {
     "output_type": "stream",
     "name": "stdout",
     "text": [
      "##################### Shape #####################\n",
      "(768, 17)\n",
      "##################### Types #####################\n",
      "PREGNANCIES                      int64\n",
      "GLUCOSE                          int64\n",
      "BLOODPRESSURE                    int64\n",
      "SKINTHICKNESS                    int64\n",
      "INSULIN                          int64\n",
      "BMI                            float64\n",
      "DIABETESPEDIGREEFUNCTION       float64\n",
      "AGE                              int64\n",
      "OUTCOME                          int64\n",
      "NEW_AGE_CAT_old                  uint8\n",
      "NEW_AGE_CAT_young                uint8\n",
      "NEW_GLUCOSE_CAT_prediabetes      uint8\n",
      "NEW_BMI_RANGE_healty             uint8\n",
      "NEW_BMI_RANGE_overweight         uint8\n",
      "NEW_BMI_RANGE_obese              uint8\n",
      "NEW_BLOODPRESSURE_hs1            uint8\n",
      "NEW_BLOODPRESSURE_hs2            uint8\n",
      "dtype: object\n",
      "##################### Head #####################\n",
      "   PREGNANCIES  GLUCOSE  BLOODPRESSURE  SKINTHICKNESS  INSULIN   BMI  DIABETESPEDIGREEFUNCTION  AGE  OUTCOME  NEW_AGE_CAT_old  NEW_AGE_CAT_young  NEW_GLUCOSE_CAT_prediabetes  NEW_BMI_RANGE_healty  NEW_BMI_RANGE_overweight  NEW_BMI_RANGE_obese  NEW_BLOODPRESSURE_hs1  NEW_BLOODPRESSURE_hs2\n",
      "0            6      148             72             35        0  33.6                     0.627   50        1                0                  0                            1                     0                         0                    1                      0                      0\n",
      "1            1       85             66             29        0  26.6                     0.351   31        0                0                  1                            0                     0                         1                    0                      0                      0\n",
      "2            8      183             64              0        0  23.3                     0.672   32        1                0                  1                            1                     1                         0                    0                      0                      0\n",
      "3            1       89             66             23       94  28.1                     0.167   21        0                0                  1                            0                     0                         1                    0                      0                      0\n",
      "4            0      137             40             35      168  43.1                     2.288   33        1                0                  1                            0                     0                         0                    1                      0                      0\n",
      "##################### Tail #####################\n",
      "     PREGNANCIES  GLUCOSE  BLOODPRESSURE  SKINTHICKNESS  INSULIN   BMI  DIABETESPEDIGREEFUNCTION  AGE  OUTCOME  NEW_AGE_CAT_old  NEW_AGE_CAT_young  NEW_GLUCOSE_CAT_prediabetes  NEW_BMI_RANGE_healty  NEW_BMI_RANGE_overweight  NEW_BMI_RANGE_obese  NEW_BLOODPRESSURE_hs1  NEW_BLOODPRESSURE_hs2\n",
      "763           10      101             76             48      180  32.9                     0.171   63        0                1                  0                            0                     0                         0                    1                      0                      0\n",
      "764            2      122             70             27        0  36.8                     0.340   27        0                0                  1                            0                     0                         0                    1                      0                      0\n",
      "765            5      121             72             23      112  26.2                     0.245   30        0                0                  1                            0                     0                         1                    0                      0                      0\n",
      "766            1      126             60              0        0  30.1                     0.349   47        1                0                  0                            0                     0                         0                    1                      0                      0\n",
      "767            1       93             70             31        0  30.4                     0.315   23        0                0                  1                            0                     0                         0                    1                      0                      0\n",
      "##################### NA #####################\n",
      "PREGNANCIES                    0\n",
      "GLUCOSE                        0\n",
      "BLOODPRESSURE                  0\n",
      "SKINTHICKNESS                  0\n",
      "INSULIN                        0\n",
      "BMI                            0\n",
      "DIABETESPEDIGREEFUNCTION       0\n",
      "AGE                            0\n",
      "OUTCOME                        0\n",
      "NEW_AGE_CAT_old                0\n",
      "NEW_AGE_CAT_young              0\n",
      "NEW_GLUCOSE_CAT_prediabetes    0\n",
      "NEW_BMI_RANGE_healty           0\n",
      "NEW_BMI_RANGE_overweight       0\n",
      "NEW_BMI_RANGE_obese            0\n",
      "NEW_BLOODPRESSURE_hs1          0\n",
      "NEW_BLOODPRESSURE_hs2          0\n",
      "dtype: int64\n",
      "##################### Quantiles #####################\n",
      "                               0.00      0.05      0.50       0.95       0.99    1.00\n",
      "PREGNANCIES                   0.000   0.00000    3.0000   10.00000   13.00000   17.00\n",
      "GLUCOSE                       0.000  79.00000  117.0000  181.00000  196.00000  199.00\n",
      "BLOODPRESSURE                 0.000  38.70000   72.0000   90.00000  106.00000  122.00\n",
      "SKINTHICKNESS                 0.000   0.00000   23.0000   44.00000   51.33000   99.00\n",
      "INSULIN                       0.000   0.00000   30.5000  293.00000  519.90000  846.00\n",
      "BMI                           0.000  21.80000   32.0000   44.39500   50.75900   67.10\n",
      "DIABETESPEDIGREEFUNCTION      0.078   0.14035    0.3725    1.13285    1.69833    2.42\n",
      "AGE                          21.000  21.00000   29.0000   58.00000   67.00000   81.00\n",
      "OUTCOME                       0.000   0.00000    0.0000    1.00000    1.00000    1.00\n",
      "NEW_AGE_CAT_old               0.000   0.00000    0.0000    1.00000    1.00000    1.00\n",
      "NEW_AGE_CAT_young             0.000   0.00000    1.0000    1.00000    1.00000    1.00\n",
      "NEW_GLUCOSE_CAT_prediabetes   0.000   0.00000    0.0000    1.00000    1.00000    1.00\n",
      "NEW_BMI_RANGE_healty          0.000   0.00000    0.0000    1.00000    1.00000    1.00\n",
      "NEW_BMI_RANGE_overweight      0.000   0.00000    0.0000    1.00000    1.00000    1.00\n",
      "NEW_BMI_RANGE_obese           0.000   0.00000    1.0000    1.00000    1.00000    1.00\n",
      "NEW_BLOODPRESSURE_hs1         0.000   0.00000    0.0000    1.00000    1.00000    1.00\n",
      "NEW_BLOODPRESSURE_hs2         0.000   0.00000    0.0000    1.00000    1.00000    1.00\n"
     ]
    }
   ],
   "metadata": {}
  },
  {
   "cell_type": "code",
   "execution_count": 34,
   "source": [
    "df.columns = [col.upper() for col in df.columns]"
   ],
   "outputs": [],
   "metadata": {}
  },
  {
   "cell_type": "code",
   "execution_count": 35,
   "source": [
    "cat_cols, num_cols, cat_but_car = grab_col_names(df, cat_th=5, car_th=20)"
   ],
   "outputs": [],
   "metadata": {}
  },
  {
   "cell_type": "code",
   "execution_count": 36,
   "source": [
    "cat_cols"
   ],
   "outputs": [
    {
     "output_type": "execute_result",
     "data": {
      "text/plain": [
       "['OUTCOME',\n",
       " 'NEW_AGE_CAT_OLD',\n",
       " 'NEW_AGE_CAT_YOUNG',\n",
       " 'NEW_GLUCOSE_CAT_PREDIABETES',\n",
       " 'NEW_BMI_RANGE_HEALTY',\n",
       " 'NEW_BMI_RANGE_OVERWEIGHT',\n",
       " 'NEW_BMI_RANGE_OBESE',\n",
       " 'NEW_BLOODPRESSURE_HS1',\n",
       " 'NEW_BLOODPRESSURE_HS2']"
      ]
     },
     "metadata": {},
     "execution_count": 36
    }
   ],
   "metadata": {}
  },
  {
   "cell_type": "code",
   "execution_count": 37,
   "source": [
    "num_cols"
   ],
   "outputs": [
    {
     "output_type": "execute_result",
     "data": {
      "text/plain": [
       "['PREGNANCIES',\n",
       " 'GLUCOSE',\n",
       " 'BLOODPRESSURE',\n",
       " 'SKINTHICKNESS',\n",
       " 'INSULIN',\n",
       " 'BMI',\n",
       " 'DIABETESPEDIGREEFUNCTION',\n",
       " 'AGE']"
      ]
     },
     "metadata": {},
     "execution_count": 37
    }
   ],
   "metadata": {}
  },
  {
   "cell_type": "code",
   "execution_count": 38,
   "source": [
    "cat_but_car"
   ],
   "outputs": [
    {
     "output_type": "execute_result",
     "data": {
      "text/plain": [
       "[]"
      ]
     },
     "metadata": {},
     "execution_count": 38
    }
   ],
   "metadata": {}
  },
  {
   "cell_type": "code",
   "execution_count": 39,
   "source": [
    "cat_cols = [col for col in cat_cols if \"OUTCOME\" not in col]"
   ],
   "outputs": [],
   "metadata": {}
  },
  {
   "cell_type": "code",
   "execution_count": 40,
   "source": [
    "cat_cols"
   ],
   "outputs": [
    {
     "output_type": "execute_result",
     "data": {
      "text/plain": [
       "['NEW_AGE_CAT_OLD',\n",
       " 'NEW_AGE_CAT_YOUNG',\n",
       " 'NEW_GLUCOSE_CAT_PREDIABETES',\n",
       " 'NEW_BMI_RANGE_HEALTY',\n",
       " 'NEW_BMI_RANGE_OVERWEIGHT',\n",
       " 'NEW_BMI_RANGE_OBESE',\n",
       " 'NEW_BLOODPRESSURE_HS1',\n",
       " 'NEW_BLOODPRESSURE_HS2']"
      ]
     },
     "metadata": {},
     "execution_count": 40
    }
   ],
   "metadata": {}
  },
  {
   "cell_type": "code",
   "execution_count": 41,
   "source": [
    "for col in num_cols:\n",
    "    print(col, check_outlier(df, col, 0.05, 0.95))"
   ],
   "outputs": [
    {
     "output_type": "stream",
     "name": "stdout",
     "text": [
      "PREGNANCIES False\n",
      "GLUCOSE False\n",
      "BLOODPRESSURE False\n",
      "SKINTHICKNESS False\n",
      "INSULIN True\n",
      "BMI False\n",
      "DIABETESPEDIGREEFUNCTION False\n",
      "AGE False\n"
     ]
    }
   ],
   "metadata": {}
  },
  {
   "cell_type": "code",
   "execution_count": 42,
   "source": [
    "replace_with_thresholds(df, \"INSULIN\")"
   ],
   "outputs": [],
   "metadata": {}
  },
  {
   "cell_type": "code",
   "execution_count": 43,
   "source": [
    "for col in num_cols:\n",
    "    print(col, check_outlier(df, col, 0.05, 0.95))"
   ],
   "outputs": [
    {
     "output_type": "stream",
     "name": "stdout",
     "text": [
      "PREGNANCIES False\n",
      "GLUCOSE False\n",
      "BLOODPRESSURE False\n",
      "SKINTHICKNESS False\n",
      "INSULIN False\n",
      "BMI False\n",
      "DIABETESPEDIGREEFUNCTION False\n",
      "AGE False\n"
     ]
    }
   ],
   "metadata": {}
  },
  {
   "cell_type": "code",
   "execution_count": 44,
   "source": [
    "X_scaled = StandardScaler().fit_transform(df[num_cols])"
   ],
   "outputs": [],
   "metadata": {}
  },
  {
   "cell_type": "code",
   "execution_count": 45,
   "source": [
    "df[num_cols] = pd.DataFrame(X_scaled, columns=df[num_cols].columns)"
   ],
   "outputs": [],
   "metadata": {}
  },
  {
   "cell_type": "code",
   "execution_count": 47,
   "source": [
    "y = df[\"OUTCOME\"]\n",
    "X = df.drop([\"OUTCOME\"], axis=1)"
   ],
   "outputs": [],
   "metadata": {}
  },
  {
   "cell_type": "code",
   "execution_count": 48,
   "source": [
    "check_df(X)"
   ],
   "outputs": [
    {
     "output_type": "stream",
     "name": "stdout",
     "text": [
      "##################### Shape #####################\n",
      "(768, 16)\n",
      "##################### Types #####################\n",
      "PREGNANCIES                    float64\n",
      "GLUCOSE                        float64\n",
      "BLOODPRESSURE                  float64\n",
      "SKINTHICKNESS                  float64\n",
      "INSULIN                        float64\n",
      "BMI                            float64\n",
      "DIABETESPEDIGREEFUNCTION       float64\n",
      "AGE                            float64\n",
      "NEW_AGE_CAT_OLD                  uint8\n",
      "NEW_AGE_CAT_YOUNG                uint8\n",
      "NEW_GLUCOSE_CAT_PREDIABETES      uint8\n",
      "NEW_BMI_RANGE_HEALTY             uint8\n",
      "NEW_BMI_RANGE_OVERWEIGHT         uint8\n",
      "NEW_BMI_RANGE_OBESE              uint8\n",
      "NEW_BLOODPRESSURE_HS1            uint8\n",
      "NEW_BLOODPRESSURE_HS2            uint8\n",
      "dtype: object\n",
      "##################### Head #####################\n",
      "   PREGNANCIES   GLUCOSE  BLOODPRESSURE  SKINTHICKNESS   INSULIN       BMI  DIABETESPEDIGREEFUNCTION       AGE  NEW_AGE_CAT_OLD  NEW_AGE_CAT_YOUNG  NEW_GLUCOSE_CAT_PREDIABETES  NEW_BMI_RANGE_HEALTY  NEW_BMI_RANGE_OVERWEIGHT  NEW_BMI_RANGE_OBESE  NEW_BLOODPRESSURE_HS1  NEW_BLOODPRESSURE_HS2\n",
      "0     0.639947  0.848324       0.149641       0.907270 -0.787602  0.204013                  0.468492  1.425995                0                  0                            1                     0                         0                    1                      0                      0\n",
      "1    -0.844885 -1.123396      -0.160546       0.530902 -0.787602 -0.684422                 -0.365061 -0.190672                0                  1                            0                     0                         1                    0                      0                      0\n",
      "2     1.233880  1.943724      -0.263941      -1.288212 -0.787602 -1.103255                  0.604397 -0.105584                0                  1                            1                     1                         0                    0                      0                      0\n",
      "3    -0.844885 -0.998208      -0.160546       0.154533  0.217583 -0.494043                 -0.920763 -1.041549                0                  1                            0                     0                         1                    0                      0                      0\n",
      "4    -1.141852  0.504055      -1.504687       0.907270  1.008900  1.409746                  5.484909 -0.020496                0                  1                            0                     0                         0                    1                      0                      0\n",
      "##################### Tail #####################\n",
      "     PREGNANCIES   GLUCOSE  BLOODPRESSURE  SKINTHICKNESS   INSULIN       BMI  DIABETESPEDIGREEFUNCTION       AGE  NEW_AGE_CAT_OLD  NEW_AGE_CAT_YOUNG  NEW_GLUCOSE_CAT_PREDIABETES  NEW_BMI_RANGE_HEALTY  NEW_BMI_RANGE_OVERWEIGHT  NEW_BMI_RANGE_OBESE  NEW_BLOODPRESSURE_HS1  NEW_BLOODPRESSURE_HS2\n",
      "763     1.827813 -0.622642       0.356432       1.722735  1.137221  0.115169                 -0.908682  2.532136                1                  0                            0                     0                         0                    1                      0                      0\n",
      "764    -0.547919  0.034598       0.046245       0.405445 -0.787602  0.610154                 -0.398282 -0.531023                0                  1                            0                     0                         0                    1                      0                      0\n",
      "765     0.342981  0.003301       0.149641       0.154533  0.410066 -0.735190                 -0.685193 -0.275760                0                  1                            0                     0                         1                    0                      0                      0\n",
      "766    -0.844885  0.159787      -0.470732      -1.288212 -0.787602 -0.240205                 -0.371101  1.170732                0                  0                            0                     0                         0                    1                      0                      0\n",
      "767    -0.844885 -0.873019       0.046245       0.656358 -0.787602 -0.202129                 -0.473785 -0.871374                0                  1                            0                     0                         0                    1                      0                      0\n",
      "##################### NA #####################\n",
      "PREGNANCIES                    0\n",
      "GLUCOSE                        0\n",
      "BLOODPRESSURE                  0\n",
      "SKINTHICKNESS                  0\n",
      "INSULIN                        0\n",
      "BMI                            0\n",
      "DIABETESPEDIGREEFUNCTION       0\n",
      "AGE                            0\n",
      "NEW_AGE_CAT_OLD                0\n",
      "NEW_AGE_CAT_YOUNG              0\n",
      "NEW_GLUCOSE_CAT_PREDIABETES    0\n",
      "NEW_BMI_RANGE_HEALTY           0\n",
      "NEW_BMI_RANGE_OVERWEIGHT       0\n",
      "NEW_BMI_RANGE_OBESE            0\n",
      "NEW_BLOODPRESSURE_HS1          0\n",
      "NEW_BLOODPRESSURE_HS2          0\n",
      "dtype: int64\n",
      "##################### Quantiles #####################\n",
      "                                 0.00      0.05      0.50      0.95      0.99      1.00\n",
      "PREGNANCIES                 -1.141852 -1.141852 -0.250952  1.827813  2.718712  3.906578\n",
      "GLUCOSE                     -3.783654 -1.311179 -0.121888  1.881130  2.350587  2.444478\n",
      "BLOODPRESSURE               -3.572597 -1.571894  0.149641  1.080200  1.907364  2.734528\n",
      "SKINTHICKNESS               -1.288212 -1.288212  0.154533  1.471822  1.931619  4.921866\n",
      "INSULIN                     -0.787602 -0.787602 -0.461451  2.345582  2.614256  2.614256\n",
      "BMI                         -4.060474 -1.293634  0.000942  1.574106  2.381820  4.455807\n",
      "DIABETESPEDIGREEFUNCTION    -1.189553 -1.001249 -0.300128  1.996219  3.704036  5.883565\n",
      "AGE                         -1.041549 -1.041549 -0.360847  2.106697  2.872487  4.063716\n",
      "NEW_AGE_CAT_OLD              0.000000  0.000000  0.000000  1.000000  1.000000  1.000000\n",
      "NEW_AGE_CAT_YOUNG            0.000000  0.000000  1.000000  1.000000  1.000000  1.000000\n",
      "NEW_GLUCOSE_CAT_PREDIABETES  0.000000  0.000000  0.000000  1.000000  1.000000  1.000000\n",
      "NEW_BMI_RANGE_HEALTY         0.000000  0.000000  0.000000  1.000000  1.000000  1.000000\n",
      "NEW_BMI_RANGE_OVERWEIGHT     0.000000  0.000000  0.000000  1.000000  1.000000  1.000000\n",
      "NEW_BMI_RANGE_OBESE          0.000000  0.000000  1.000000  1.000000  1.000000  1.000000\n",
      "NEW_BLOODPRESSURE_HS1        0.000000  0.000000  0.000000  1.000000  1.000000  1.000000\n",
      "NEW_BLOODPRESSURE_HS2        0.000000  0.000000  0.000000  1.000000  1.000000  1.000000\n"
     ]
    }
   ],
   "metadata": {}
  },
  {
   "cell_type": "code",
   "execution_count": 49,
   "source": [
    "def diabetes_data_prep(dataframe):\n",
    "    dataframe.columns = [col.upper() for col in dataframe.columns]\n",
    "    # Glucose\n",
    "    dataframe[\"NEW_GLUCOSE_CAT\"] = pd.cut(\n",
    "        x=dataframe[\"GLUCOSE\"], bins=[-1, 139, 200], labels=[\"normal\", \"prediabetes\"]\n",
    "    )\n",
    "    # Age\n",
    "    dataframe.loc[(dataframe[\"AGE\"] < 35), \"NEW_AGE_CAT\"] = \"young\"\n",
    "    dataframe.loc[\n",
    "        (dataframe[\"AGE\"] >= 35) & (dataframe[\"AGE\"] <= 55), \"NEW_AGE_CAT\"\n",
    "    ] = \"middleage\"\n",
    "    dataframe.loc[(dataframe[\"AGE\"] > 55), \"NEW_AGE_CAT\"] = \"old\"\n",
    "    # BMI\n",
    "    dataframe[\"NEW_BMI_RANGE\"] = pd.cut(\n",
    "        x=dataframe[\"BMI\"],\n",
    "        bins=[-1, 18.5, 24.9, 29.9, 100],\n",
    "        labels=[\"underweight\", \"healty\", \"overweight\", \"obese\"],\n",
    "    )\n",
    "    # BloodPressure\n",
    "    dataframe[\"NEW_BLOODPRESSURE\"] = pd.cut(\n",
    "        x=dataframe[\"BLOODPRESSURE\"],\n",
    "        bins=[-1, 79, 89, 123],\n",
    "        labels=[\"normal\", \"hs1\", \"hs2\"],\n",
    "    )\n",
    "    cat_cols, num_cols, cat_but_car = grab_col_names(dataframe, cat_th=5, car_th=20)\n",
    "    cat_cols = [col for col in cat_cols if \"OUTCOME\" not in col]\n",
    "    df = one_hot_encoder(dataframe, cat_cols, drop_first=True)\n",
    "    df.columns = [col.upper() for col in df.columns]\n",
    "    cat_cols, num_cols, cat_but_car = grab_col_names(df, cat_th=5, car_th=20)\n",
    "    cat_cols = [col for col in cat_cols if \"OUTCOME\" not in col]\n",
    "    replace_with_thresholds(df, \"INSULIN\")\n",
    "    X_scaled = StandardScaler().fit_transform(df[num_cols])\n",
    "    df[num_cols] = pd.DataFrame(X_scaled, columns=df[num_cols].columns)\n",
    "    y = df[\"OUTCOME\"]\n",
    "    X = df.drop([\"OUTCOME\"], axis=1)\n",
    "    return X, y"
   ],
   "outputs": [],
   "metadata": {}
  },
  {
   "cell_type": "code",
   "execution_count": 50,
   "source": [
    "df = pd.read_csv(\"datasets/diabetes.csv\")"
   ],
   "outputs": [],
   "metadata": {}
  },
  {
   "cell_type": "code",
   "execution_count": 51,
   "source": [
    "check_df(df)"
   ],
   "outputs": [
    {
     "output_type": "stream",
     "name": "stdout",
     "text": [
      "##################### Shape #####################\n",
      "(768, 9)\n",
      "##################### Types #####################\n",
      "Pregnancies                   int64\n",
      "Glucose                       int64\n",
      "BloodPressure                 int64\n",
      "SkinThickness                 int64\n",
      "Insulin                       int64\n",
      "BMI                         float64\n",
      "DiabetesPedigreeFunction    float64\n",
      "Age                           int64\n",
      "Outcome                       int64\n",
      "dtype: object\n",
      "##################### Head #####################\n",
      "   Pregnancies  Glucose  BloodPressure  SkinThickness  Insulin   BMI  DiabetesPedigreeFunction  Age  Outcome\n",
      "0            6      148             72             35        0  33.6                     0.627   50        1\n",
      "1            1       85             66             29        0  26.6                     0.351   31        0\n",
      "2            8      183             64              0        0  23.3                     0.672   32        1\n",
      "3            1       89             66             23       94  28.1                     0.167   21        0\n",
      "4            0      137             40             35      168  43.1                     2.288   33        1\n",
      "##################### Tail #####################\n",
      "     Pregnancies  Glucose  BloodPressure  SkinThickness  Insulin   BMI  DiabetesPedigreeFunction  Age  Outcome\n",
      "763           10      101             76             48      180  32.9                     0.171   63        0\n",
      "764            2      122             70             27        0  36.8                     0.340   27        0\n",
      "765            5      121             72             23      112  26.2                     0.245   30        0\n",
      "766            1      126             60              0        0  30.1                     0.349   47        1\n",
      "767            1       93             70             31        0  30.4                     0.315   23        0\n",
      "##################### NA #####################\n",
      "Pregnancies                 0\n",
      "Glucose                     0\n",
      "BloodPressure               0\n",
      "SkinThickness               0\n",
      "Insulin                     0\n",
      "BMI                         0\n",
      "DiabetesPedigreeFunction    0\n",
      "Age                         0\n",
      "Outcome                     0\n",
      "dtype: int64\n",
      "##################### Quantiles #####################\n",
      "                            0.00      0.05      0.50       0.95       0.99    1.00\n",
      "Pregnancies                0.000   0.00000    3.0000   10.00000   13.00000   17.00\n",
      "Glucose                    0.000  79.00000  117.0000  181.00000  196.00000  199.00\n",
      "BloodPressure              0.000  38.70000   72.0000   90.00000  106.00000  122.00\n",
      "SkinThickness              0.000   0.00000   23.0000   44.00000   51.33000   99.00\n",
      "Insulin                    0.000   0.00000   30.5000  293.00000  519.90000  846.00\n",
      "BMI                        0.000  21.80000   32.0000   44.39500   50.75900   67.10\n",
      "DiabetesPedigreeFunction   0.078   0.14035    0.3725    1.13285    1.69833    2.42\n",
      "Age                       21.000  21.00000   29.0000   58.00000   67.00000   81.00\n",
      "Outcome                    0.000   0.00000    0.0000    1.00000    1.00000    1.00\n"
     ]
    }
   ],
   "metadata": {}
  },
  {
   "cell_type": "code",
   "execution_count": 52,
   "source": [
    "X, y = diabetes_data_prep(df)"
   ],
   "outputs": [],
   "metadata": {}
  },
  {
   "cell_type": "code",
   "execution_count": 53,
   "source": [
    "check_df(X)"
   ],
   "outputs": [
    {
     "output_type": "stream",
     "name": "stdout",
     "text": [
      "##################### Shape #####################\n",
      "(768, 16)\n",
      "##################### Types #####################\n",
      "PREGNANCIES                    float64\n",
      "GLUCOSE                        float64\n",
      "BLOODPRESSURE                  float64\n",
      "SKINTHICKNESS                  float64\n",
      "INSULIN                        float64\n",
      "BMI                            float64\n",
      "DIABETESPEDIGREEFUNCTION       float64\n",
      "AGE                            float64\n",
      "NEW_AGE_CAT_OLD                  uint8\n",
      "NEW_AGE_CAT_YOUNG                uint8\n",
      "NEW_GLUCOSE_CAT_PREDIABETES      uint8\n",
      "NEW_BMI_RANGE_HEALTY             uint8\n",
      "NEW_BMI_RANGE_OVERWEIGHT         uint8\n",
      "NEW_BMI_RANGE_OBESE              uint8\n",
      "NEW_BLOODPRESSURE_HS1            uint8\n",
      "NEW_BLOODPRESSURE_HS2            uint8\n",
      "dtype: object\n",
      "##################### Head #####################\n",
      "   PREGNANCIES   GLUCOSE  BLOODPRESSURE  SKINTHICKNESS   INSULIN       BMI  DIABETESPEDIGREEFUNCTION       AGE  NEW_AGE_CAT_OLD  NEW_AGE_CAT_YOUNG  NEW_GLUCOSE_CAT_PREDIABETES  NEW_BMI_RANGE_HEALTY  NEW_BMI_RANGE_OVERWEIGHT  NEW_BMI_RANGE_OBESE  NEW_BLOODPRESSURE_HS1  NEW_BLOODPRESSURE_HS2\n",
      "0     0.639947  0.848324       0.149641       0.907270 -0.787602  0.204013                  0.468492  1.425995                0                  0                            1                     0                         0                    1                      0                      0\n",
      "1    -0.844885 -1.123396      -0.160546       0.530902 -0.787602 -0.684422                 -0.365061 -0.190672                0                  1                            0                     0                         1                    0                      0                      0\n",
      "2     1.233880  1.943724      -0.263941      -1.288212 -0.787602 -1.103255                  0.604397 -0.105584                0                  1                            1                     1                         0                    0                      0                      0\n",
      "3    -0.844885 -0.998208      -0.160546       0.154533  0.217583 -0.494043                 -0.920763 -1.041549                0                  1                            0                     0                         1                    0                      0                      0\n",
      "4    -1.141852  0.504055      -1.504687       0.907270  1.008900  1.409746                  5.484909 -0.020496                0                  1                            0                     0                         0                    1                      0                      0\n",
      "##################### Tail #####################\n",
      "     PREGNANCIES   GLUCOSE  BLOODPRESSURE  SKINTHICKNESS   INSULIN       BMI  DIABETESPEDIGREEFUNCTION       AGE  NEW_AGE_CAT_OLD  NEW_AGE_CAT_YOUNG  NEW_GLUCOSE_CAT_PREDIABETES  NEW_BMI_RANGE_HEALTY  NEW_BMI_RANGE_OVERWEIGHT  NEW_BMI_RANGE_OBESE  NEW_BLOODPRESSURE_HS1  NEW_BLOODPRESSURE_HS2\n",
      "763     1.827813 -0.622642       0.356432       1.722735  1.137221  0.115169                 -0.908682  2.532136                1                  0                            0                     0                         0                    1                      0                      0\n",
      "764    -0.547919  0.034598       0.046245       0.405445 -0.787602  0.610154                 -0.398282 -0.531023                0                  1                            0                     0                         0                    1                      0                      0\n",
      "765     0.342981  0.003301       0.149641       0.154533  0.410066 -0.735190                 -0.685193 -0.275760                0                  1                            0                     0                         1                    0                      0                      0\n",
      "766    -0.844885  0.159787      -0.470732      -1.288212 -0.787602 -0.240205                 -0.371101  1.170732                0                  0                            0                     0                         0                    1                      0                      0\n",
      "767    -0.844885 -0.873019       0.046245       0.656358 -0.787602 -0.202129                 -0.473785 -0.871374                0                  1                            0                     0                         0                    1                      0                      0\n",
      "##################### NA #####################\n",
      "PREGNANCIES                    0\n",
      "GLUCOSE                        0\n",
      "BLOODPRESSURE                  0\n",
      "SKINTHICKNESS                  0\n",
      "INSULIN                        0\n",
      "BMI                            0\n",
      "DIABETESPEDIGREEFUNCTION       0\n",
      "AGE                            0\n",
      "NEW_AGE_CAT_OLD                0\n",
      "NEW_AGE_CAT_YOUNG              0\n",
      "NEW_GLUCOSE_CAT_PREDIABETES    0\n",
      "NEW_BMI_RANGE_HEALTY           0\n",
      "NEW_BMI_RANGE_OVERWEIGHT       0\n",
      "NEW_BMI_RANGE_OBESE            0\n",
      "NEW_BLOODPRESSURE_HS1          0\n",
      "NEW_BLOODPRESSURE_HS2          0\n",
      "dtype: int64\n",
      "##################### Quantiles #####################\n",
      "                                 0.00      0.05      0.50      0.95      0.99      1.00\n",
      "PREGNANCIES                 -1.141852 -1.141852 -0.250952  1.827813  2.718712  3.906578\n",
      "GLUCOSE                     -3.783654 -1.311179 -0.121888  1.881130  2.350587  2.444478\n",
      "BLOODPRESSURE               -3.572597 -1.571894  0.149641  1.080200  1.907364  2.734528\n",
      "SKINTHICKNESS               -1.288212 -1.288212  0.154533  1.471822  1.931619  4.921866\n",
      "INSULIN                     -0.787602 -0.787602 -0.461451  2.345582  2.614256  2.614256\n",
      "BMI                         -4.060474 -1.293634  0.000942  1.574106  2.381820  4.455807\n",
      "DIABETESPEDIGREEFUNCTION    -1.189553 -1.001249 -0.300128  1.996219  3.704036  5.883565\n",
      "AGE                         -1.041549 -1.041549 -0.360847  2.106697  2.872487  4.063716\n",
      "NEW_AGE_CAT_OLD              0.000000  0.000000  0.000000  1.000000  1.000000  1.000000\n",
      "NEW_AGE_CAT_YOUNG            0.000000  0.000000  1.000000  1.000000  1.000000  1.000000\n",
      "NEW_GLUCOSE_CAT_PREDIABETES  0.000000  0.000000  0.000000  1.000000  1.000000  1.000000\n",
      "NEW_BMI_RANGE_HEALTY         0.000000  0.000000  0.000000  1.000000  1.000000  1.000000\n",
      "NEW_BMI_RANGE_OVERWEIGHT     0.000000  0.000000  0.000000  1.000000  1.000000  1.000000\n",
      "NEW_BMI_RANGE_OBESE          0.000000  0.000000  1.000000  1.000000  1.000000  1.000000\n",
      "NEW_BLOODPRESSURE_HS1        0.000000  0.000000  0.000000  1.000000  1.000000  1.000000\n",
      "NEW_BLOODPRESSURE_HS2        0.000000  0.000000  0.000000  1.000000  1.000000  1.000000\n"
     ]
    }
   ],
   "metadata": {}
  }
 ],
 "nbformat": 4,
 "nbformat_minor": 2,
 "metadata": {
  "language_info": {
   "codemirror_mode": {
    "name": "ipython",
    "version": 3
   },
   "file_extension": ".py",
   "mimetype": "text/x-python",
   "name": "python",
   "nbconvert_exporter": "python",
   "pygments_lexer": "ipython3",
   "version": 3
  }
 }
}