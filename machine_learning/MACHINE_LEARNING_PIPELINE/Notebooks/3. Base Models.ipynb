{
 "cells": [
  {
   "cell_type": "code",
   "execution_count": 1,
   "metadata": {},
   "outputs": [],
   "source": [
    "import joblib\n",
    "import pandas as pd\n",
    "import seaborn as sns\n",
    "from matplotlib import pyplot as plt\n",
    "from sklearn.ensemble import (\n",
    "    RandomForestClassifier,\n",
    "    GradientBoostingClassifier,\n",
    "    VotingClassifier,\n",
    "    AdaBoostClassifier,\n",
    ")\n",
    "\n",
    "from sklearn.linear_model import LogisticRegression\n",
    "from sklearn.model_selection import cross_validate, GridSearchCV\n",
    "from sklearn.neighbors import KNeighborsClassifier\n",
    "from sklearn.svm import SVC\n",
    "from sklearn.tree import DecisionTreeClassifier\n",
    "from sklearn.preprocessing import StandardScaler\n",
    "# !pip install catboost\n",
    "# !pip install lightgbm\n",
    "# !pip install xgboost\n",
    "\n",
    "from xgboost import XGBClassifier\n",
    "from lightgbm import LGBMClassifier\n",
    "from catboost import CatBoostClassifier\n",
    "pd.set_option(\"display.max_columns\", None)\n",
    "pd.set_option(\"display.width\", 500)"
   ]
  },
  {
   "cell_type": "code",
   "execution_count": 38,
   "metadata": {},
   "outputs": [],
   "source": [
    "def base_models(X, y, scoring=\"roc_auc\"):\n",
    "    print(f\"Base Models....\\n**********{scoring}**********\")\n",
    "    classifiers = [\n",
    "        (\"LR\", LogisticRegression()),\n",
    "        # (\"KNN\", KNeighborsClassifier()),\n",
    "        (\"SVC\", SVC()),\n",
    "        (\"CART\", DecisionTreeClassifier()),\n",
    "        (\"RF\", RandomForestClassifier()),\n",
    "        (\"Adaboost\", AdaBoostClassifier()),\n",
    "        (\"GBM\", GradientBoostingClassifier()),\n",
    "        (\"XGBoost\", XGBClassifier(eval_metric=\"logloss\")),\n",
    "        (\"LightGBM\", LGBMClassifier()),\n",
    "        (\"CatBoost\", CatBoostClassifier(verbose=False)),\n",
    "    ]\n",
    "    for name, classifier in classifiers:\n",
    "        cv_results = cross_validate(classifier, X, y, cv=3, scoring=scoring)\n",
    "        print(f\"{scoring}: {round(cv_results['test_score'].mean(), 4)} ({name}) \")"
   ]
  },
  {
   "cell_type": "code",
   "execution_count": 39,
   "metadata": {},
   "outputs": [
    {
     "name": "stdout",
     "output_type": "stream",
     "text": [
      "Base Models....\n",
      "**********accuracy**********\n",
      "accuracy: 0.7604 (LR) \n",
      "accuracy: 0.7656 (SVC) \n",
      "accuracy: 0.6927 (CART) \n",
      "accuracy: 0.7734 (RF) \n",
      "accuracy: 0.7578 (Adaboost) \n",
      "accuracy: 0.7552 (GBM) \n",
      "accuracy: 0.7448 (XGBoost) \n",
      "accuracy: 0.7383 (LightGBM) \n",
      "accuracy: 0.7591 (CatBoost) \n"
     ]
    }
   ],
   "source": [
    "base_models(X, y, scoring=\"accuracy\")"
   ]
  },
  {
   "cell_type": "code",
   "execution_count": 40,
   "metadata": {},
   "outputs": [
    {
     "name": "stdout",
     "output_type": "stream",
     "text": [
      "Base Models....\n",
      "**********roc_auc**********\n",
      "roc_auc: 0.8409 (LR) \n",
      "roc_auc: 0.8355 (SVC) \n",
      "roc_auc: 0.6574 (CART) \n",
      "roc_auc: 0.8238 (RF) \n",
      "roc_auc: 0.8196 (Adaboost) \n",
      "roc_auc: 0.8247 (GBM) \n",
      "roc_auc: 0.8015 (XGBoost) \n",
      "roc_auc: 0.807 (LightGBM) \n",
      "roc_auc: 0.8349 (CatBoost) \n"
     ]
    }
   ],
   "source": [
    "base_models(X, y)"
   ]
  },
  {
   "cell_type": "code",
   "execution_count": 41,
   "metadata": {},
   "outputs": [
    {
     "name": "stdout",
     "output_type": "stream",
     "text": [
      "Base Models....\n",
      "**********f1**********\n",
      "f1: 0.6233 (LR) \n",
      "f1: 0.6269 (SVC) \n",
      "f1: 0.5559 (CART) \n",
      "f1: 0.6197 (RF) \n",
      "f1: 0.637 (Adaboost) \n",
      "f1: 0.6217 (GBM) \n",
      "f1: 0.6289 (XGBoost) \n",
      "f1: 0.605 (LightGBM) \n",
      "f1: 0.6289 (CatBoost) \n"
     ]
    }
   ],
   "source": [
    "base_models(X, y, scoring=\"f1\")"
   ]
  },
  {
   "cell_type": "code",
   "execution_count": null,
   "metadata": {},
   "outputs": [],
   "source": []
  }
 ],
 "metadata": {
  "kernelspec": {
   "display_name": "base",
   "language": "python",
   "name": "python3"
  },
  "language_info": {
   "codemirror_mode": {
    "name": "ipython",
    "version": 3
   },
   "file_extension": ".py",
   "mimetype": "text/x-python",
   "name": "python",
   "nbconvert_exporter": "python",
   "pygments_lexer": "ipython3",
   "version": "3.10.13"
  }
 },
 "nbformat": 4,
 "nbformat_minor": 2
}
